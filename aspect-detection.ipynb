{
 "cells": [
  {
   "cell_type": "code",
   "execution_count": 4,
   "id": "historic-florida",
   "metadata": {},
   "outputs": [],
   "source": [
    "import src"
   ]
  },
  {
   "cell_type": "code",
   "execution_count": 73,
   "id": "certified-spending",
   "metadata": {},
   "outputs": [
    {
     "name": "stderr",
     "output_type": "stream",
     "text": [
      "100%|█████████▉| 9999/10000 [00:00<00:00, 35875.77it/s]\n"
     ]
    }
   ],
   "source": [
    "w2v = src.datasets.read_english_w2v(lim=10000)\n",
    "train_texts, train_labels = src.datasets.read_imdb()"
   ]
  },
  {
   "cell_type": "code",
   "execution_count": 116,
   "id": "raising-depression",
   "metadata": {},
   "outputs": [
    {
     "name": "stderr",
     "output_type": "stream",
     "text": [
      "100%|█████████▉| 9999/10000 [00:00<00:00, 36227.29it/s]\n"
     ]
    }
   ],
   "source": [
    "from nltk.corpus import stopwords\n",
    "from nltk.tokenize import word_tokenize\n",
    "from sklearn.cluster import KMeans\n",
    "\n",
    "class KMeansAspectDetector:\n",
    "    \"\"\"\n",
    "    Detect aspect by applying K means to the sets of word vectors.\n",
    "    \"\"\"\n",
    "    def __init__(self, w2v, k=5, language=\"english\", dist=\"L2\"):\n",
    "        \"\"\"\n",
    "        k : the number of predicted aspects\n",
    "        dist : L2 or cosin, distance to use to retrive a word from a vector\n",
    "        \"\"\"\n",
    "        self.stop_words = set(stopwords.words(language))\n",
    "        valid_words = [word for word in w2v.index if word not in self.stop_words and word.isalnum()]\n",
    "        self.w2v = w2v.loc[valid_words]\n",
    "        self.w2v_words = set(valid_words)\n",
    "        self.k = 5\n",
    "        self.dist = dist\n",
    "        \n",
    "    def transform_sentence(self, sentence):\n",
    "        \"\"\"\n",
    "        Transform single sentence to vectors of aspects.\n",
    "        Removes stop words and punctuation.\n",
    "        Apply Kmeans to predicts aspect raw vectors (No necessarily exact words) \n",
    "        \"\"\"\n",
    "        word_tokens = word_tokenize(sentence)  \n",
    "        filtered_sentence = [w for w in word_tokens if not w in self.stop_words]  \n",
    "        filtered_sentence = [word for word in filtered_sentence if word.isalnum()]\n",
    "        filtered_sentence = [word for word in filtered_sentence if word in self.w2v_words]\n",
    "        vectors = self.w2v.loc[filtered_sentence]\n",
    "        k_means = KMeans(self.k).fit(vectors)\n",
    "        raw_aspects = k_means.cluster_centers_\n",
    "        return raw_aspects\n",
    "    \n",
    "    def _retrieve_word(self, aspects_vector):\n",
    "        \"\"\"\n",
    "        Retrieve word closest to a vector\n",
    "        \"\"\"\n",
    "        if self.dist == \"cosin\":\n",
    "            scores = (self.w2v @ aspects_vector)\n",
    "        else:\n",
    "            assert self.dist == \"L2\", f\"Unknown distance {self.dist}\"\n",
    "            diff = self.w2v - aspects_vector\n",
    "            scores = -(diff*diff).sum(axis=1)\n",
    "            \n",
    "        return scores.index[scores.argmax()]\n",
    "    \n",
    "    def predict_sentence(self, sentence):\n",
    "        \"\"\"\n",
    "        Predict aspects for single sentence.\n",
    "        \"\"\"\n",
    "        aspects_vectors = self.transform_sentence(sentence)\n",
    "        aspects = []\n",
    "        for i in range(self.k):\n",
    "            aspect = self._retrieve_word(aspects_vectors[i])\n",
    "            aspects.append(aspect)\n",
    "        return aspects \n",
    "    \n",
    "def test_KMeansAspectDetector():\n",
    "    example_sent = \"\"\"This is a sample sentence, \n",
    "                  showing off the stop words filtration.\"\"\"\n",
    "    w2v = src.datasets.read_english_w2v(lim=10000)\n",
    "    detector = KMeansAspectDetector(w2v)\n",
    "    vectors = detector.predict_sentence(example_sent)\n",
    "    assert len(vectors) == detector.k\n",
    "test_KMeansAspectDetector()"
   ]
  },
  {
   "cell_type": "code",
   "execution_count": 130,
   "id": "educated-sentence",
   "metadata": {},
   "outputs": [
    {
     "data": {
      "text/plain": [
       "['1988', 'nomination', 'government', 'Delaware', 'even']"
      ]
     },
     "execution_count": 130,
     "metadata": {},
     "output_type": "execute_result"
    }
   ],
   "source": [
    "sentence = \"\"\"aised in Scranton, Pennsylvania, and New Castle County, \n",
    "Delaware, Biden studied at the University of Delaware before earning his law degree from Syracuse University in 1968. \n",
    "He was elected to the New Castle County Council in 1970 and became the sixth-youngest senator in American history \n",
    "when he was elected to the U.S. Senate from Delaware in 1972, at the age of 29. Biden was a longtime member of the \n",
    "Senate Foreign Relations Committee and eventually became its chairman. He also chaired the Senate Judiciary Committee \n",
    "from 1987 to 1995, dealing with drug policy, crime prevention, and civil liberties issues; led the effort to pass the \n",
    "Violent Crime Control and Law Enforcement Act and the Violence Against Women Act; and oversaw six U.S. Supreme Court \n",
    "confirmation hearings, including the contentious hearings for Robert Bork and Clarence Thomas. \n",
    "He ran unsuccessfully for the Democratic presidential nomination in 1988 and again in 2008.\"\"\"\n",
    "detector = KMeansAspectDetector(w2v)\n",
    "detector.predict_sentence(sentence)"
   ]
  },
  {
   "cell_type": "code",
   "execution_count": null,
   "id": "organized-occasions",
   "metadata": {},
   "outputs": [],
   "source": []
  },
  {
   "cell_type": "code",
   "execution_count": null,
   "id": "understanding-timing",
   "metadata": {},
   "outputs": [],
   "source": []
  },
  {
   "cell_type": "code",
   "execution_count": null,
   "id": "concerned-picnic",
   "metadata": {},
   "outputs": [],
   "source": []
  },
  {
   "cell_type": "code",
   "execution_count": null,
   "id": "wanted-bread",
   "metadata": {},
   "outputs": [],
   "source": []
  }
 ],
 "metadata": {
  "kernelspec": {
   "display_name": "Python 3",
   "language": "python",
   "name": "python3"
  },
  "language_info": {
   "codemirror_mode": {
    "name": "ipython",
    "version": 3
   },
   "file_extension": ".py",
   "mimetype": "text/x-python",
   "name": "python",
   "nbconvert_exporter": "python",
   "pygments_lexer": "ipython3",
   "version": "3.6.12"
  }
 },
 "nbformat": 4,
 "nbformat_minor": 5
}
