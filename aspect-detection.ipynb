{
 "cells": [
  {
   "cell_type": "code",
   "execution_count": 4,
   "id": "danish-cinema",
   "metadata": {},
   "outputs": [],
   "source": [
    "import src"
   ]
  },
  {
   "cell_type": "code",
   "execution_count": 73,
   "id": "hired-wright",
   "metadata": {},
   "outputs": [
    {
     "name": "stderr",
     "output_type": "stream",
     "text": [
      "100%|█████████▉| 9999/10000 [00:00<00:00, 35875.77it/s]\n"
     ]
    }
   ],
   "source": [
    "w2v = src.datasets.read_english_w2v(lim=10000)\n",
    "train_texts, train_labels = src.datasets.read_imdb()"
   ]
  },
  {
   "cell_type": "code",
   "execution_count": 99,
   "id": "rocky-favor",
   "metadata": {},
   "outputs": [
    {
     "name": "stderr",
     "output_type": "stream",
     "text": [
      "100%|█████████▉| 9999/10000 [00:00<00:00, 36209.77it/s]\n"
     ]
    }
   ],
   "source": [
    "from nltk.corpus import stopwords\n",
    "from nltk.tokenize import word_tokenize\n",
    "from sklearn.cluster import KMeans\n",
    "\n",
    "class KMeansAspectDetector:\n",
    "    \"\"\"\n",
    "    Detect aspect by applying K means to the sets of word vectors.\n",
    "    \"\"\"\n",
    "    def __init__(self, w2v, k=5, language=\"english\"):\n",
    "        \"\"\"\n",
    "        k : the number of predicted aspects\n",
    "        \"\"\"\n",
    "        self.stop_words = set(stopwords.words(language))\n",
    "        valid_words = [word for word in w2v.index if word not in self.stop_words and word.isalnum()]\n",
    "        self.w2v = w2v.loc[valid_words]\n",
    "        self.w2v_words = set(valid_words)\n",
    "        self.k = 5\n",
    "        \n",
    "    def transform_sentence(self, sentence):\n",
    "        \"\"\"\n",
    "        Transform single sentence to vectors of aspects.\n",
    "        Removes stop words and punctuation.\n",
    "        Apply Kmeans to predicts aspect raw vectors (No necessarily exact words) \n",
    "        \"\"\"\n",
    "        word_tokens = word_tokenize(sentence)  \n",
    "        filtered_sentence = [w for w in word_tokens if not w in self.stop_words]  \n",
    "        filtered_sentence = [word for word in filtered_sentence if word.isalnum()]\n",
    "        filtered_sentence = [word for word in filtered_sentence if word in self.w2v_words]\n",
    "        vectors = self.w2v.loc[filtered_sentence]\n",
    "        k_means = KMeans(self.k).fit(vectors)\n",
    "        raw_aspects = k_means.cluster_centers_\n",
    "        return raw_aspects\n",
    "    \n",
    "    def predict_sentence(self, sentence):\n",
    "        \"\"\"\n",
    "        Predict aspects for single sentence.\n",
    "        \"\"\"\n",
    "        aspects_vectors = self.transform_sentence(sentence)\n",
    "        aspects = []\n",
    "        for i in range(self.k):\n",
    "            score = (self.w2v @ aspects_vectors[i])\n",
    "            aspect = score.index[score.argmax()]\n",
    "            aspects.append(aspect)\n",
    "        return aspects \n",
    "    \n",
    "def test_KMeansAspectDetector():\n",
    "    example_sent = \"\"\"This is a sample sentence, \n",
    "                  showing off the stop words filtration.\"\"\"\n",
    "    w2v = src.datasets.read_english_w2v(lim=10000)\n",
    "    detector = KMeansAspectDetector(w2v)\n",
    "    vectors = detector.transform_sentence(example_sent)\n",
    "    assert vectors.shape == (detector.k, w2v.shape[1])\n",
    "test_KMeansAspectDetector()"
   ]
  },
  {
   "cell_type": "code",
   "execution_count": 108,
   "id": "valuable-seminar",
   "metadata": {},
   "outputs": [
    {
     "data": {
      "text/plain": [
       "['appointed', 'Delaware', 'Senate', 'crimes', '1972']"
      ]
     },
     "execution_count": 108,
     "metadata": {},
     "output_type": "execute_result"
    }
   ],
   "source": [
    "sentence = \"\"\"aised in Scranton, Pennsylvania, and New Castle County, \n",
    "Delaware, Biden studied at the University of Delaware before earning his law degree from Syracuse University in 1968. \n",
    "He was elected to the New Castle County Council in 1970 and became the sixth-youngest senator in American history \n",
    "when he was elected to the U.S. Senate from Delaware in 1972, at the age of 29. Biden was a longtime member of the \n",
    "Senate Foreign Relations Committee and eventually became its chairman. He also chaired the Senate Judiciary Committee \n",
    "from 1987 to 1995, dealing with drug policy, crime prevention, and civil liberties issues; led the effort to pass the \n",
    "Violent Crime Control and Law Enforcement Act and the Violence Against Women Act; and oversaw six U.S. Supreme Court \n",
    "confirmation hearings, including the contentious hearings for Robert Bork and Clarence Thomas. \n",
    "He ran unsuccessfully for the Democratic presidential nomination in 1988 and again in 2008.\"\"\"\n",
    "detector = KMeansAspectDetector(w2v)\n",
    "detector.predict_sentence(sentence)"
   ]
  },
  {
   "cell_type": "code",
   "execution_count": null,
   "id": "material-investor",
   "metadata": {},
   "outputs": [],
   "source": []
  },
  {
   "cell_type": "code",
   "execution_count": null,
   "id": "structured-antibody",
   "metadata": {},
   "outputs": [],
   "source": []
  },
  {
   "cell_type": "code",
   "execution_count": null,
   "id": "authorized-destruction",
   "metadata": {},
   "outputs": [],
   "source": []
  },
  {
   "cell_type": "code",
   "execution_count": null,
   "id": "constant-westminster",
   "metadata": {},
   "outputs": [],
   "source": []
  }
 ],
 "metadata": {
  "kernelspec": {
   "display_name": "Python 3",
   "language": "python",
   "name": "python3"
  },
  "language_info": {
   "codemirror_mode": {
    "name": "ipython",
    "version": 3
   },
   "file_extension": ".py",
   "mimetype": "text/x-python",
   "name": "python",
   "nbconvert_exporter": "python",
   "pygments_lexer": "ipython3",
   "version": "3.6.12"
  }
 },
 "nbformat": 4,
 "nbformat_minor": 5
}
