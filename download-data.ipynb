{
 "cells": [
  {
   "cell_type": "markdown",
   "id": "round-hawaii",
   "metadata": {},
   "source": [
    "# Downloading datasets and some pretrained models"
   ]
  },
  {
   "cell_type": "code",
   "execution_count": 4,
   "id": "molecular-interview",
   "metadata": {},
   "outputs": [
    {
     "name": "stdout",
     "output_type": "stream",
     "text": [
      "mkdir: cannot create directory ‘datasets’: File exists\r\n",
      "mkdir: cannot create directory ‘models’: File exists\r\n"
     ]
    }
   ],
   "source": [
    "!mkdir datasets models"
   ]
  },
  {
   "cell_type": "markdown",
   "id": "dental-webster",
   "metadata": {},
   "source": [
    "## NLTK"
   ]
  },
  {
   "cell_type": "code",
   "execution_count": 3,
   "id": "developed-amplifier",
   "metadata": {},
   "outputs": [
    {
     "name": "stderr",
     "output_type": "stream",
     "text": [
      "[nltk_data] Downloading package stopwords to /home/leo/nltk_data...\n",
      "[nltk_data]   Package stopwords is already up-to-date!\n",
      "[nltk_data] Downloading package punkt to /home/leo/nltk_data...\n",
      "[nltk_data]   Unzipping tokenizers/punkt.zip.\n"
     ]
    },
    {
     "data": {
      "text/plain": [
       "True"
      ]
     },
     "execution_count": 3,
     "metadata": {},
     "output_type": "execute_result"
    }
   ],
   "source": [
    "import nltk\n",
    "nltk.download('stopwords')\n",
    "nltk.download('punkt')"
   ]
  },
  {
   "cell_type": "markdown",
   "id": "floating-algebra",
   "metadata": {},
   "source": [
    "## imbdb\n",
    "https://ai.stanford.edu/~amaas/data/sentiment/"
   ]
  },
  {
   "cell_type": "code",
   "execution_count": 9,
   "id": "integral-badge",
   "metadata": {
    "scrolled": true
   },
   "outputs": [
    {
     "name": "stdout",
     "output_type": "stream",
     "text": [
      "--2021-02-18 23:46:22--  https://ai.stanford.edu/~amaas/data/sentiment/aclImdb_v1.tar.gz\n",
      "Resolving ai.stanford.edu (ai.stanford.edu)... 171.64.68.10\n",
      "Connecting to ai.stanford.edu (ai.stanford.edu)|171.64.68.10|:443... connected.\n",
      "HTTP request sent, awaiting response... 200 OK\n",
      "Length: 84125825 (80M) [application/x-gzip]\n",
      "Saving to: ‘aclImdb_v1.tar.gz.1’\n",
      "\n",
      "aclImdb_v1.tar.gz.1 100%[===================>]  80,23M  1,40MB/s    in 79s     \n",
      "\n",
      "2021-02-18 23:47:43 (1,01 MB/s) - ‘aclImdb_v1.tar.gz.1’ saved [84125825/84125825]\n",
      "\n"
     ]
    }
   ],
   "source": [
    "!cd datasets \\\n",
    "&& wget https://ai.stanford.edu/~amaas/data/sentiment/aclImdb_v1.tar.gz \\\n",
    "&& tar -zxf aclImdb_v1.tar.gz"
   ]
  },
  {
   "cell_type": "markdown",
   "id": "controversial-philippines",
   "metadata": {},
   "source": [
    "## Allocine dataset\n",
    "https://github.com/TheophileBlard/french-sentiment-analysis-with-bert/tree/master/allocine_dataset"
   ]
  },
  {
   "cell_type": "code",
   "execution_count": 14,
   "id": "professional-smoke",
   "metadata": {},
   "outputs": [],
   "source": [
    "!cd datasets \\\n",
    "&& wget https://github.com/TheophileBlard/french-sentiment-analysis-with-bert/raw/master/allocine_dataset/data.tar.bz2 \\\n",
    "&& tar -xjf data.tar.bz2 "
   ]
  },
  {
   "cell_type": "markdown",
   "id": "democratic-psychology",
   "metadata": {},
   "source": [
    "## Word2Vec"
   ]
  },
  {
   "cell_type": "markdown",
   "id": "rapid-seating",
   "metadata": {},
   "source": [
    "### English"
   ]
  },
  {
   "cell_type": "code",
   "execution_count": 17,
   "id": "fabulous-bikini",
   "metadata": {},
   "outputs": [
    {
     "name": "stdout",
     "output_type": "stream",
     "text": [
      "--2021-02-19 00:02:56--  https://dl.fbaipublicfiles.com/fasttext/vectors-english/wiki-news-300d-1M.vec.zip\n",
      "Resolving dl.fbaipublicfiles.com (dl.fbaipublicfiles.com)... 104.22.75.142, 172.67.9.4, 104.22.74.142, ...\n",
      "Connecting to dl.fbaipublicfiles.com (dl.fbaipublicfiles.com)|104.22.75.142|:443... connected.\n",
      "HTTP request sent, awaiting response... 200 OK\n",
      "Length: 681808098 (650M) [application/zip]\n",
      "Saving to: ‘wiki-news-300d-1M.vec.zip’\n",
      "\n",
      "wiki-news-300d-1M.v 100%[===================>] 650,22M  4,49MB/s    in 2m 39s  \n",
      "\n",
      "2021-02-19 00:05:36 (4,10 MB/s) - ‘wiki-news-300d-1M.vec.zip’ saved [681808098/681808098]\n",
      "\n"
     ]
    }
   ],
   "source": [
    "#https://fasttext.cc/docs/en/english-vectors.html\n",
    "#1 million word vectors trained on Wikipedia 2017, dim 300\n",
    "!cd datasets \\\n",
    "&& wget https://dl.fbaipublicfiles.com/fasttext/vectors-english/wiki-news-300d-1M.vec.zip \\\n",
    "&& unzip -q wiki-news-300d-1M.vec.zip"
   ]
  },
  {
   "cell_type": "markdown",
   "id": "atmospheric-restoration",
   "metadata": {},
   "source": [
    "### French"
   ]
  },
  {
   "cell_type": "code",
   "execution_count": 16,
   "id": "measured-separate",
   "metadata": {},
   "outputs": [
    {
     "name": "stdout",
     "output_type": "stream",
     "text": [
      "--2021-02-18 23:57:19--  https://s3.us-east-2.amazonaws.com/embeddings.net/embeddings/frWac_non_lem_no_postag_no_phrase_200_skip_cut100.bin\n",
      "Resolving s3.us-east-2.amazonaws.com (s3.us-east-2.amazonaws.com)... 52.219.97.25\n",
      "Connecting to s3.us-east-2.amazonaws.com (s3.us-east-2.amazonaws.com)|52.219.97.25|:443... connected.\n",
      "HTTP request sent, awaiting response... 200 OK\n",
      "Length: 126052447 (120M) [application/octet-stream]\n",
      "Saving to: ‘frWac_non_lem_no_postag_no_phrase_200_skip_cut100.bin.1’\n",
      "\n",
      "frWac_non_lem_no_po 100%[===================>] 120,21M  1,95MB/s    in 86s     \n",
      "\n",
      "2021-02-18 23:58:46 (1,39 MB/s) - ‘frWac_non_lem_no_postag_no_phrase_200_skip_cut100.bin.1’ saved [126052447/126052447]\n",
      "\n"
     ]
    }
   ],
   "source": [
    "#https://fauconnier.github.io/\n",
    "#skipgram dim:200 cutoff:100, FrWac corpus, 1.6 billion of words.\n",
    "!cd datasets \\\n",
    "&& wget https://s3.us-east-2.amazonaws.com/embeddings.net/embeddings/frWac_non_lem_no_postag_no_phrase_200_skip_cut100.bin"
   ]
  },
  {
   "cell_type": "code",
   "execution_count": null,
   "id": "decreased-combat",
   "metadata": {},
   "outputs": [],
   "source": []
  }
 ],
 "metadata": {
  "kernelspec": {
   "display_name": "Python 3",
   "language": "python",
   "name": "python3"
  },
  "language_info": {
   "codemirror_mode": {
    "name": "ipython",
    "version": 3
   },
   "file_extension": ".py",
   "mimetype": "text/x-python",
   "name": "python",
   "nbconvert_exporter": "python",
   "pygments_lexer": "ipython3",
   "version": "3.6.12"
  }
 },
 "nbformat": 4,
 "nbformat_minor": 5
}
